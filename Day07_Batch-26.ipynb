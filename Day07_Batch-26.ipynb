{
 "cells": [
  {
   "cell_type": "code",
   "execution_count": null,
   "metadata": {},
   "outputs": [],
   "source": [
    "continuation of list"
   ]
  },
  {
   "cell_type": "code",
   "execution_count": 1,
   "metadata": {},
   "outputs": [],
   "source": [
    "students = ['shabistha', 'kiran', 'paul', 'zain', 'keethi', 'prasad', 'ravi']"
   ]
  },
  {
   "cell_type": "code",
   "execution_count": 2,
   "metadata": {},
   "outputs": [
    {
     "name": "stdout",
     "output_type": "stream",
     "text": [
      "['shabistha', 'kiran', 'paul', 'zain', 'keethi', 'prasad', 'ravi']\n"
     ]
    }
   ],
   "source": [
    "print(students)"
   ]
  },
  {
   "cell_type": "code",
   "execution_count": 3,
   "metadata": {},
   "outputs": [],
   "source": [
    "#req: I want to print this list in a reverse order...?\n",
    "\n",
    "students.reverse()"
   ]
  },
  {
   "cell_type": "code",
   "execution_count": 4,
   "metadata": {},
   "outputs": [
    {
     "name": "stdout",
     "output_type": "stream",
     "text": [
      "['ravi', 'prasad', 'keethi', 'zain', 'paul', 'kiran', 'shabistha']\n"
     ]
    }
   ],
   "source": [
    "print(students)"
   ]
  },
  {
   "cell_type": "code",
   "execution_count": null,
   "metadata": {},
   "outputs": [],
   "source": [
    "****Introduction to looping statements:-"
   ]
  },
  {
   "cell_type": "code",
   "execution_count": null,
   "metadata": {},
   "outputs": [],
   "source": [
    "for looping:"
   ]
  },
  {
   "cell_type": "code",
   "execution_count": null,
   "metadata": {},
   "outputs": [],
   "source": [
    "#General syntax of a for loop:\n",
    "for tempvar in mainvar:                   #formula.....!\n",
    "    print(tempvar)                     "
   ]
  },
  {
   "cell_type": "code",
   "execution_count": 5,
   "metadata": {},
   "outputs": [
    {
     "name": "stdout",
     "output_type": "stream",
     "text": [
      "ravi\n",
      "prasad\n",
      "keethi\n",
      "zain\n",
      "paul\n",
      "kiran\n",
      "shabistha\n"
     ]
    }
   ],
   "source": [
    "for x in students:          \n",
    "    print(x)        #The gap is called Indentation....!"
   ]
  },
  {
   "cell_type": "code",
   "execution_count": 7,
   "metadata": {},
   "outputs": [
    {
     "name": "stdout",
     "output_type": "stream",
     "text": [
      "ravi\n",
      "prasad\n",
      "keethi\n",
      "zain\n",
      "paul\n",
      "kiran\n",
      "shabistha\n"
     ]
    }
   ],
   "source": [
    "for a in students:\n",
    "    print(a)"
   ]
  },
  {
   "cell_type": "code",
   "execution_count": 8,
   "metadata": {},
   "outputs": [
    {
     "name": "stdout",
     "output_type": "stream",
     "text": [
      "['ravi', 'prasad', 'keethi', 'zain', 'paul', 'kiran', 'shabistha']\n"
     ]
    }
   ],
   "source": [
    "print(students)"
   ]
  },
  {
   "cell_type": "code",
   "execution_count": 9,
   "metadata": {},
   "outputs": [
    {
     "name": "stdout",
     "output_type": "stream",
     "text": [
      "keep up the good work,Ravi\n"
     ]
    }
   ],
   "source": [
    "print(f\"keep up the good work,{students[0].title()}\")"
   ]
  },
  {
   "cell_type": "code",
   "execution_count": 10,
   "metadata": {},
   "outputs": [
    {
     "name": "stdout",
     "output_type": "stream",
     "text": [
      "keep up the good work,Keethi\n"
     ]
    }
   ],
   "source": [
    "print(f\"keep up the good work,{students[2].title()}\")"
   ]
  },
  {
   "cell_type": "code",
   "execution_count": 11,
   "metadata": {},
   "outputs": [
    {
     "name": "stdout",
     "output_type": "stream",
     "text": [
      "keep up the good work, ravi\n",
      "keep up the good work, prasad\n",
      "keep up the good work, keethi\n",
      "keep up the good work, zain\n",
      "keep up the good work, paul\n",
      "keep up the good work, kiran\n",
      "keep up the good work, shabistha\n"
     ]
    }
   ],
   "source": [
    "for x in students:\n",
    "    print(f\"keep up the good work, {x}\")"
   ]
  },
  {
   "cell_type": "code",
   "execution_count": 12,
   "metadata": {},
   "outputs": [],
   "source": [
    "#Enhancement of code....!\n",
    "I am looking to receive your practice file of today as well."
   ]
  },
  {
   "cell_type": "code",
   "execution_count": 15,
   "metadata": {},
   "outputs": [
    {
     "name": "stdout",
     "output_type": "stream",
     "text": [
      "keep up the good work, ravi\n",
      "I am looking to receive your practice file of today as well, ravi\n",
      "keep up the good work, prasad\n",
      "I am looking to receive your practice file of today as well, prasad\n",
      "keep up the good work, keethi\n",
      "I am looking to receive your practice file of today as well, keethi\n",
      "keep up the good work, zain\n",
      "I am looking to receive your practice file of today as well, zain\n",
      "keep up the good work, paul\n",
      "I am looking to receive your practice file of today as well, paul\n",
      "keep up the good work, kiran\n",
      "I am looking to receive your practice file of today as well, kiran\n",
      "keep up the good work, shabistha\n",
      "I am looking to receive your practice file of today as well, shabistha\n"
     ]
    }
   ],
   "source": [
    "for x in students:\n",
    "    print(f\"keep up the good work, {x}\")\n",
    "    print(f\"I am looking to receive your practice file of today as well, {x}\")"
   ]
  },
  {
   "cell_type": "code",
   "execution_count": 16,
   "metadata": {},
   "outputs": [
    {
     "name": "stdout",
     "output_type": "stream",
     "text": [
      "keep up the good work, ravi\n",
      "I am looking to receive your practice file of today as well, ravi\n",
      "\n",
      "keep up the good work, prasad\n",
      "I am looking to receive your practice file of today as well, prasad\n",
      "\n",
      "keep up the good work, keethi\n",
      "I am looking to receive your practice file of today as well, keethi\n",
      "\n",
      "keep up the good work, zain\n",
      "I am looking to receive your practice file of today as well, zain\n",
      "\n",
      "keep up the good work, paul\n",
      "I am looking to receive your practice file of today as well, paul\n",
      "\n",
      "keep up the good work, kiran\n",
      "I am looking to receive your practice file of today as well, kiran\n",
      "\n",
      "keep up the good work, shabistha\n",
      "I am looking to receive your practice file of today as well, shabistha\n",
      "\n"
     ]
    }
   ],
   "source": [
    "#Improvising the code\n",
    "for x in students:\n",
    "    print(f\"keep up the good work, {x}\")\n",
    "    print(f\"I am looking to receive your practice file of today as well, {x}\\n\")"
   ]
  },
  {
   "cell_type": "code",
   "execution_count": 17,
   "metadata": {},
   "outputs": [
    {
     "ename": "IndentationError",
     "evalue": "expected an indented block (<ipython-input-17-3d8ff2092fce>, line 2)",
     "output_type": "error",
     "traceback": [
      "\u001b[1;36m  File \u001b[1;32m\"<ipython-input-17-3d8ff2092fce>\"\u001b[1;36m, line \u001b[1;32m2\u001b[0m\n\u001b[1;33m    print(f\"keep up the good work, {x}\")\u001b[0m\n\u001b[1;37m    ^\u001b[0m\n\u001b[1;31mIndentationError\u001b[0m\u001b[1;31m:\u001b[0m expected an indented block\n"
     ]
    }
   ],
   "source": [
    "for x in students:\n",
    "print(f\"keep up the good work, {x}\")"
   ]
  },
  {
   "cell_type": "code",
   "execution_count": 19,
   "metadata": {},
   "outputs": [
    {
     "name": "stdout",
     "output_type": "stream",
     "text": [
      "keep up the good work, ravi\n",
      "I am looking to receive your practice file of today as well, ravi\n",
      "\n",
      "keep up the good work, prasad\n",
      "I am looking to receive your practice file of today as well, prasad\n",
      "\n",
      "keep up the good work, keethi\n",
      "I am looking to receive your practice file of today as well, keethi\n",
      "\n",
      "keep up the good work, zain\n",
      "I am looking to receive your practice file of today as well, zain\n",
      "\n",
      "keep up the good work, paul\n",
      "I am looking to receive your practice file of today as well, paul\n",
      "\n",
      "keep up the good work, kiran\n",
      "I am looking to receive your practice file of today as well, kiran\n",
      "\n",
      "keep up the good work, shabistha\n",
      "I am looking to receive your practice file of today as well, shabistha\n",
      "\n",
      "Thank you for attending the python session\n"
     ]
    }
   ],
   "source": [
    "for x in students:\n",
    "    print(f\"keep up the good work, {x}\")                                           #in loop...\n",
    "    print(f\"I am looking to receive your practice file of today as well, {x}\\n\")     #in loop...\n",
    "print(\"Thank you for attending the python session\")                                 #comming out of loop..."
   ]
  },
  {
   "cell_type": "code",
   "execution_count": null,
   "metadata": {},
   "outputs": [],
   "source": []
  }
 ],
 "metadata": {
  "kernelspec": {
   "display_name": "Python 3",
   "language": "python",
   "name": "python3"
  },
  "language_info": {
   "codemirror_mode": {
    "name": "ipython",
    "version": 3
   },
   "file_extension": ".py",
   "mimetype": "text/x-python",
   "name": "python",
   "nbconvert_exporter": "python",
   "pygments_lexer": "ipython3",
   "version": "3.8.3"
  }
 },
 "nbformat": 4,
 "nbformat_minor": 4
}
